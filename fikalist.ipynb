{
 "cells": [
  {
   "cell_type": "markdown",
   "metadata": {},
   "source": [
    "# Fikalist for Particle & Astroparticle Physics\n",
    "\n",
    "Input: old fikalist  \n",
    "Output: new fikalist based on weighted sampling without replacement"
   ]
  },
  {
   "cell_type": "code",
   "execution_count": 1,
   "metadata": {
    "ExecuteTime": {
     "end_time": "2019-09-29T18:31:18.794591Z",
     "start_time": "2019-09-29T18:31:18.389346Z"
    }
   },
   "outputs": [],
   "source": [
    "from fika import *"
   ]
  },
  {
   "cell_type": "markdown",
   "metadata": {},
   "source": [
    "## Input\n",
    "Input is a text file, containing the previous fikalist \n",
    "\n",
    "Something like:\n",
    "\n",
    "```\n",
    "#Week    Friday        Person1    Person2 \n",
    "3        19/01/2018    name1      name2           \n",
    "4        26/01/2018    name3      name4   \n",
    "5        02/02/2018    HOLIDAY:holidayname\n",
    "```\n",
    "\n",
    "Etc. Example files can be found in the ```old_fikalist/``` directory."
   ]
  },
  {
   "cell_type": "code",
   "execution_count": 25,
   "metadata": {
    "ExecuteTime": {
     "end_time": "2019-09-29T18:43:06.313149Z",
     "start_time": "2019-09-29T18:43:06.301170Z"
    }
   },
   "outputs": [
    {
     "name": "stdout",
     "output_type": "stream",
     "text": [
      "Dennis\n",
      "Francesca\n",
      "Giulia\n",
      "Björn\n",
      "Nirmal\n",
      "Rakhee\n",
      "Zeynep\n",
      "Navpreet\n",
      "Mark\n",
      "Linda\n",
      "Filip\n",
      "Rupal\n",
      "Jonas\n",
      "Christer\n",
      "Thedi\n",
      "Vlasta\n",
      "Bengt\n",
      "Christian\n",
      "Josefin\n",
      "Felix\n",
      "Exjobbare\n",
      "Moszi\n"
     ]
    }
   ],
   "source": [
    "# input data\n",
    "filename = 'old_fikalists/winter19_edits.fika'\n",
    "fikalist = FikaList()\n",
    "fikalist.input_list(filename)\n",
    "\n",
    "# show all the potential fika providers\n",
    "fikalist.providers.show()"
   ]
  },
  {
   "cell_type": "markdown",
   "metadata": {},
   "source": [
    "## Editing the providers\n",
    "\n",
    "The people in the group are constantly changing so we will need to update who is actually around to take part in fika. This can be done by adding and removing providers."
   ]
  },
  {
   "cell_type": "code",
   "execution_count": 26,
   "metadata": {
    "ExecuteTime": {
     "end_time": "2019-09-29T18:43:07.062790Z",
     "start_time": "2019-09-29T18:43:07.053502Z"
    }
   },
   "outputs": [
    {
     "name": "stdout",
     "output_type": "stream",
     "text": [
      "Welcome, Rabia!\n",
      "Welcome, Fredrik!\n",
      "Welcome, Mattias!\n",
      "Welcome, Marcus!\n",
      "Welcome, Manojit!\n",
      "Farewell, Christer!\n",
      "Farewell, Linda!\n",
      "Farewell, Rupal!\n",
      "Farewell, Francesca!\n",
      "Farewell, Björn!\n",
      "Linda is not in the list of providers...\n"
     ]
    }
   ],
   "source": [
    "# update by adding and removing people, use lists if you like.\n",
    "fikalist.providers.add(['Rabia', 'Fredrik']) # new PhD student/Engineer!\n",
    "fikalist.providers.add(['Mattias', 'Marcus', 'Manojit']) # Theory people!\n",
    "fikalist.providers.remove(['Christer', 'Linda', 'Rupal'])\n",
    "\n",
    "# Remove myself and Bjorn as we will do next week\n",
    "fikalist.providers.remove(['Francesca', 'Björn'])\n",
    "\n",
    "# FikaList even handles your errors\n",
    "fikalist.providers.remove('Linda')"
   ]
  },
  {
   "cell_type": "markdown",
   "metadata": {},
   "source": [
    "## Constraints\n",
    "\n",
    "Sadly fika is not always simple and we have to take into account constraints when making the list. This includes Swedish holidays which fall on a Friday (or Thursday...) and also people who are leaving soon and won't be able to provide fika after a certain date. It can also be convenient for couples who live together to have the same fika date. No fear! This can be handled with ```FikaList.constraints```.\n",
    "\n",
    "Major holidays (summer, winter and Easter) are already programmed into the ```FikaList``` class as well as Swedish *red days*."
   ]
  },
  {
   "cell_type": "code",
   "execution_count": 27,
   "metadata": {
    "ExecuteTime": {
     "end_time": "2019-09-29T18:43:07.913411Z",
     "start_time": "2019-09-29T18:43:07.909582Z"
    }
   },
   "outputs": [],
   "source": [
    "# Example of how to bump up someone who has just arrived\n",
    "#fikalist.constraints.add('Francesca', 'just arrived')\n",
    "\n",
    "# bump up Bengt as he skipped last time!\n",
    "fikalist.constraints.add('Bengt', 'just arrived')\n",
    "\n",
    "# Rakhee and Nirmal live together, so they should have the same fika date\n",
    "fikalist.constraints.add(['Rakhee', 'Nirmal'], 'together')"
   ]
  },
  {
   "cell_type": "markdown",
   "metadata": {},
   "source": [
    "## Generating the list\n",
    "\n",
    "Now that everything is up to date and the constraints are defined, we can go ahead and make a fikalist.\n",
    "\n",
    "The order is determined by random sampling without replacement, with people who made fika a long time ago weighted preferentially. Also, people are put together with someone who they have not been with in the previous list."
   ]
  },
  {
   "cell_type": "code",
   "execution_count": 28,
   "metadata": {
    "ExecuteTime": {
     "end_time": "2019-09-29T18:43:08.656824Z",
     "start_time": "2019-09-29T18:43:08.653525Z"
    }
   },
   "outputs": [],
   "source": [
    "from datetime import date, timedelta\n",
    "\n",
    "# specify the desired start date \n",
    "start_date = date(2019, 10, 6)"
   ]
  },
  {
   "cell_type": "code",
   "execution_count": 29,
   "metadata": {
    "ExecuteTime": {
     "end_time": "2019-09-29T18:43:09.265803Z",
     "start_time": "2019-09-29T18:43:09.150497Z"
    }
   },
   "outputs": [
    {
     "data": {
      "text/html": [
       "<div>\n",
       "<style scoped>\n",
       "    .dataframe tbody tr th:only-of-type {\n",
       "        vertical-align: middle;\n",
       "    }\n",
       "\n",
       "    .dataframe tbody tr th {\n",
       "        vertical-align: top;\n",
       "    }\n",
       "\n",
       "    .dataframe thead th {\n",
       "        text-align: right;\n",
       "    }\n",
       "</style>\n",
       "<table border=\"1\" class=\"dataframe\">\n",
       "  <thead>\n",
       "    <tr style=\"text-align: right;\">\n",
       "      <th></th>\n",
       "      <th>Week</th>\n",
       "      <th>Friday</th>\n",
       "      <th>Person 1</th>\n",
       "      <th>Person 2</th>\n",
       "    </tr>\n",
       "  </thead>\n",
       "  <tbody>\n",
       "    <tr>\n",
       "      <td>0</td>\n",
       "      <td>41</td>\n",
       "      <td>11/10/2019</td>\n",
       "      <td>Dennis</td>\n",
       "      <td>Fredrik</td>\n",
       "    </tr>\n",
       "    <tr>\n",
       "      <td>1</td>\n",
       "      <td>42</td>\n",
       "      <td>18/10/2019</td>\n",
       "      <td>Vlasta</td>\n",
       "      <td>Giulia</td>\n",
       "    </tr>\n",
       "    <tr>\n",
       "      <td>2</td>\n",
       "      <td>43</td>\n",
       "      <td>25/10/2019</td>\n",
       "      <td>Marcus</td>\n",
       "      <td>Filip</td>\n",
       "    </tr>\n",
       "    <tr>\n",
       "      <td>3</td>\n",
       "      <td>44</td>\n",
       "      <td>01/11/2019</td>\n",
       "      <td>Nirmal</td>\n",
       "      <td>Rakhee</td>\n",
       "    </tr>\n",
       "    <tr>\n",
       "      <td>4</td>\n",
       "      <td>45</td>\n",
       "      <td>08/11/2019</td>\n",
       "      <td>Josefin</td>\n",
       "      <td>Mattias</td>\n",
       "    </tr>\n",
       "    <tr>\n",
       "      <td>5</td>\n",
       "      <td>46</td>\n",
       "      <td>15/11/2019</td>\n",
       "      <td>Zeynep</td>\n",
       "      <td>Felix</td>\n",
       "    </tr>\n",
       "    <tr>\n",
       "      <td>6</td>\n",
       "      <td>47</td>\n",
       "      <td>22/11/2019</td>\n",
       "      <td>Navpreet</td>\n",
       "      <td>Rabia</td>\n",
       "    </tr>\n",
       "    <tr>\n",
       "      <td>7</td>\n",
       "      <td>48</td>\n",
       "      <td>29/11/2019</td>\n",
       "      <td>Bengt</td>\n",
       "      <td>Mark</td>\n",
       "    </tr>\n",
       "    <tr>\n",
       "      <td>8</td>\n",
       "      <td>49</td>\n",
       "      <td>06/12/2019</td>\n",
       "      <td>Manojit</td>\n",
       "      <td>Jonas</td>\n",
       "    </tr>\n",
       "    <tr>\n",
       "      <td>9</td>\n",
       "      <td>50</td>\n",
       "      <td>13/12/2019</td>\n",
       "      <td>Thedi</td>\n",
       "      <td>Moszi</td>\n",
       "    </tr>\n",
       "    <tr>\n",
       "      <td>10</td>\n",
       "      <td>3</td>\n",
       "      <td>17/01/2020</td>\n",
       "      <td>Christian</td>\n",
       "      <td>Exjobbare</td>\n",
       "    </tr>\n",
       "  </tbody>\n",
       "</table>\n",
       "</div>"
      ],
      "text/plain": [
       "   Week      Friday   Person 1   Person 2\n",
       "0    41  11/10/2019     Dennis    Fredrik\n",
       "1    42  18/10/2019     Vlasta     Giulia\n",
       "2    43  25/10/2019     Marcus      Filip\n",
       "3    44  01/11/2019     Nirmal     Rakhee\n",
       "4    45  08/11/2019    Josefin    Mattias\n",
       "5    46  15/11/2019     Zeynep      Felix\n",
       "6    47  22/11/2019   Navpreet      Rabia\n",
       "7    48  29/11/2019      Bengt       Mark\n",
       "8    49  06/12/2019    Manojit      Jonas\n",
       "9    50  13/12/2019      Thedi      Moszi\n",
       "10    3  17/01/2020  Christian  Exjobbare"
      ]
     },
     "metadata": {},
     "output_type": "display_data"
    }
   ],
   "source": [
    "# NB: only run this block once without reinitialising\n",
    "fikalist.generate(start_date=start_date)\n",
    "\n",
    "# show the generated list\n",
    "df = fikalist.show()\n",
    "# fikalist.print()"
   ]
  },
  {
   "cell_type": "markdown",
   "metadata": {
    "ExecuteTime": {
     "end_time": "2018-04-24T17:16:16.216059Z",
     "start_time": "2018-04-24T17:16:16.201370Z"
    }
   },
   "source": [
    "## Save the list\n",
    "Now that you have a new list, you can save it for use as input next time. "
   ]
  },
  {
   "cell_type": "code",
   "execution_count": 31,
   "metadata": {
    "ExecuteTime": {
     "end_time": "2019-09-29T18:44:46.337695Z",
     "start_time": "2019-09-29T18:44:46.331368Z"
    }
   },
   "outputs": [],
   "source": [
    "output_filename = 'old_fikalists/autumn19.fika'\n",
    "fikalist.save(output_filename)"
   ]
  }
 ],
 "metadata": {
  "kernelspec": {
   "display_name": "Python 3",
   "language": "python",
   "name": "python3"
  },
  "language_info": {
   "codemirror_mode": {
    "name": "ipython",
    "version": 3
   },
   "file_extension": ".py",
   "mimetype": "text/x-python",
   "name": "python",
   "nbconvert_exporter": "python",
   "pygments_lexer": "ipython3",
   "version": "3.7.3"
  }
 },
 "nbformat": 4,
 "nbformat_minor": 2
}
