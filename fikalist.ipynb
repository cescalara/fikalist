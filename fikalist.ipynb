{
 "cells": [
  {
   "cell_type": "markdown",
   "metadata": {},
   "source": [
    "# Fikalist generator for Particle & Astroparticle Physics\n",
    "\n",
    "Input: old fikalist  \n",
    "Output: new fikalist based on weighted sampling without replacement"
   ]
  },
  {
   "cell_type": "code",
   "execution_count": 1,
   "metadata": {
    "ExecuteTime": {
     "end_time": "2018-04-24T17:57:06.692277Z",
     "start_time": "2018-04-24T17:57:06.520807Z"
    }
   },
   "outputs": [],
   "source": [
    "from IPython.display import display\n",
    "from fika import *"
   ]
  },
  {
   "cell_type": "markdown",
   "metadata": {},
   "source": [
    "## Input\n",
    "Input is a text file, containing the previous fikalist \n",
    "\n",
    "Something like:\n",
    "\n",
    "```\n",
    "#Week    Friday        Person1    Person2 \n",
    "3        19/01/2018    name1      name2           \n",
    "4        26/01/2018    name3      name4   \n",
    "5        02/02/2018    HOLIDAY:holidayname\n",
    "```\n",
    "\n",
    "Etc. Example files can be found in the ```old_fikalist/``` directory."
   ]
  },
  {
   "cell_type": "code",
   "execution_count": 2,
   "metadata": {
    "ExecuteTime": {
     "end_time": "2018-04-24T17:57:06.701012Z",
     "start_time": "2018-04-24T17:57:06.694568Z"
    }
   },
   "outputs": [],
   "source": [
    "# input data\n",
    "filename = 'old_fikalists/spring18.fika'\n",
    "fikalist = FikaList()\n",
    "fikalist.input_list(filename)\n",
    "\n",
    "# show all the potential fika providers\n",
    "#fikalist.providers.show()"
   ]
  },
  {
   "cell_type": "markdown",
   "metadata": {},
   "source": [
    "## Editing the providers\n",
    "\n",
    "The people in the group are constantly changing so we will need to update who is actually around to take part in fika. This can be done by adding and removing providers."
   ]
  },
  {
   "cell_type": "code",
   "execution_count": 3,
   "metadata": {
    "ExecuteTime": {
     "end_time": "2018-04-24T17:57:06.712186Z",
     "start_time": "2018-04-24T17:57:06.703686Z"
    }
   },
   "outputs": [
    {
     "name": "stdout",
     "output_type": "stream",
     "text": [
      "Farewell, Alex!\n",
      "Farewell, Giulia!\n",
      "Farewell, Fei!\n",
      "Farewell, David!\n",
      "Farewell, Liang!\n",
      "Welcome, Francesca!\n",
      "Alex is not in the list of providers...\n"
     ]
    }
   ],
   "source": [
    "# update by adding and removing people, use lists if you like.\n",
    "fikalist.providers.remove(['Alex', 'Giulia', 'Fei'])\n",
    "fikalist.providers.remove('David')\n",
    "fikalist.providers.remove('Liang')\n",
    "fikalist.providers.add('Francesca')\n",
    "\n",
    "# FikaList even handles your errors\n",
    "fikalist.providers.remove('Alex')"
   ]
  },
  {
   "cell_type": "markdown",
   "metadata": {},
   "source": [
    "## Constraints\n",
    "\n",
    "Sadly fika is not always simple and we have to take into account constraints when making the list. This includes Swedish holidays which fall on a Friday (or Thursday...) and also people who are leaving soon and won't be able to provide fika after a certain date. It can also be convenient for couples who live together to have the same fika date. No fear! This can be handled with ```FikaList.constraints```.\n",
    "\n",
    "Major holidays (summer, winter and Easter) are already programmed into the ```FikaList``` class as well as Swedish *red days*."
   ]
  },
  {
   "cell_type": "code",
   "execution_count": 4,
   "metadata": {
    "ExecuteTime": {
     "end_time": "2018-04-24T17:57:06.717976Z",
     "start_time": "2018-04-24T17:57:06.714546Z"
    }
   },
   "outputs": [],
   "source": [
    "# Victor is leaving soon, so he should do fika sooner!\n",
    "fikalist.constraints.add('Victor', 'leaving soon')\n",
    "\n",
    "# Rakhee and Nirmal live together, so they should have the same fika date\n",
    "fikalist.constraints.add(['Rakhee', 'Nirmal'], 'together')"
   ]
  },
  {
   "cell_type": "markdown",
   "metadata": {},
   "source": [
    "## Generating the list\n",
    "\n",
    "Now that everything is up to date and the constraints are defined, we can go ahead and make a fikalist.\n",
    "\n",
    "The order is determined by random sampling without replacement, with people who made fika a long time ago weighted preferentially. Also, people are put together with someone who they have not been with before."
   ]
  },
  {
   "cell_type": "code",
   "execution_count": 5,
   "metadata": {
    "ExecuteTime": {
     "end_time": "2018-04-24T17:57:06.837625Z",
     "start_time": "2018-04-24T17:57:06.720569Z"
    }
   },
   "outputs": [
    {
     "data": {
      "text/html": [
       "<div>\n",
       "<style>\n",
       "    .dataframe thead tr:only-child th {\n",
       "        text-align: right;\n",
       "    }\n",
       "\n",
       "    .dataframe thead th {\n",
       "        text-align: left;\n",
       "    }\n",
       "\n",
       "    .dataframe tbody tr th {\n",
       "        vertical-align: top;\n",
       "    }\n",
       "</style>\n",
       "<table border=\"1\" class=\"dataframe\">\n",
       "  <thead>\n",
       "    <tr style=\"text-align: right;\">\n",
       "      <th></th>\n",
       "      <th>Week</th>\n",
       "      <th>Friday</th>\n",
       "      <th>Person 1</th>\n",
       "      <th>Person 2</th>\n",
       "    </tr>\n",
       "  </thead>\n",
       "  <tbody>\n",
       "    <tr>\n",
       "      <th>0</th>\n",
       "      <td>17</td>\n",
       "      <td>27/04/2018</td>\n",
       "      <td>Rakhee</td>\n",
       "      <td>Nirmal</td>\n",
       "    </tr>\n",
       "    <tr>\n",
       "      <th>1</th>\n",
       "      <td>18</td>\n",
       "      <td>04/05/2018</td>\n",
       "      <td>Linda</td>\n",
       "      <td>Bengt</td>\n",
       "    </tr>\n",
       "    <tr>\n",
       "      <th>2</th>\n",
       "      <td>20</td>\n",
       "      <td>18/05/2018</td>\n",
       "      <td>Rupal</td>\n",
       "      <td>Dennis</td>\n",
       "    </tr>\n",
       "    <tr>\n",
       "      <th>3</th>\n",
       "      <td>21</td>\n",
       "      <td>25/05/2018</td>\n",
       "      <td>Felix</td>\n",
       "      <td>Josefin</td>\n",
       "    </tr>\n",
       "    <tr>\n",
       "      <th>4</th>\n",
       "      <td>22</td>\n",
       "      <td>01/06/2018</td>\n",
       "      <td>Victor</td>\n",
       "      <td>Edvin</td>\n",
       "    </tr>\n",
       "    <tr>\n",
       "      <th>5</th>\n",
       "      <td>23</td>\n",
       "      <td>08/06/2018</td>\n",
       "      <td>Thedi</td>\n",
       "      <td>Björn</td>\n",
       "    </tr>\n",
       "    <tr>\n",
       "      <th>6</th>\n",
       "      <td>24</td>\n",
       "      <td>15/06/2018</td>\n",
       "      <td>Christer</td>\n",
       "      <td>Filip</td>\n",
       "    </tr>\n",
       "    <tr>\n",
       "      <th>7</th>\n",
       "      <td>26</td>\n",
       "      <td>29/06/2018</td>\n",
       "      <td>Christian</td>\n",
       "      <td>Francesca</td>\n",
       "    </tr>\n",
       "    <tr>\n",
       "      <th>8</th>\n",
       "      <td>36</td>\n",
       "      <td>07/09/2018</td>\n",
       "      <td>Mark</td>\n",
       "      <td>Jonas</td>\n",
       "    </tr>\n",
       "    <tr>\n",
       "      <th>9</th>\n",
       "      <td>37</td>\n",
       "      <td>14/09/2018</td>\n",
       "      <td>Christoffer</td>\n",
       "      <td>Zeynep</td>\n",
       "    </tr>\n",
       "    <tr>\n",
       "      <th>10</th>\n",
       "      <td>38</td>\n",
       "      <td>21/09/2018</td>\n",
       "      <td>nan</td>\n",
       "      <td>Mószi</td>\n",
       "    </tr>\n",
       "    <tr>\n",
       "      <th>11</th>\n",
       "      <td>39</td>\n",
       "      <td>28/09/2018</td>\n",
       "      <td>Exjobbare</td>\n",
       "      <td>nan</td>\n",
       "    </tr>\n",
       "  </tbody>\n",
       "</table>\n",
       "</div>"
      ],
      "text/plain": [
       "   Week      Friday     Person 1   Person 2\n",
       "0    17  27/04/2018       Rakhee     Nirmal\n",
       "1    18  04/05/2018        Linda      Bengt\n",
       "2    20  18/05/2018        Rupal     Dennis\n",
       "3    21  25/05/2018        Felix    Josefin\n",
       "4    22  01/06/2018       Victor      Edvin\n",
       "5    23  08/06/2018        Thedi      Björn\n",
       "6    24  15/06/2018     Christer      Filip\n",
       "7    26  29/06/2018    Christian  Francesca\n",
       "8    36  07/09/2018         Mark      Jonas\n",
       "9    37  14/09/2018  Christoffer     Zeynep\n",
       "10   38  21/09/2018          nan      Mószi\n",
       "11   39  28/09/2018    Exjobbare        nan"
      ]
     },
     "metadata": {},
     "output_type": "display_data"
    }
   ],
   "source": [
    "# NB: only run this block once without reinitialising\n",
    "fikalist.generate()\n",
    "\n",
    "# show the generated list\n",
    "fikalist.show()\n",
    "# fikalist.print()"
   ]
  },
  {
   "cell_type": "markdown",
   "metadata": {
    "ExecuteTime": {
     "end_time": "2018-04-24T17:16:16.216059Z",
     "start_time": "2018-04-24T17:16:16.201370Z"
    }
   },
   "source": [
    "## Save the list\n",
    "Now that you have a new list, you can save it for use as input next time. "
   ]
  },
  {
   "cell_type": "code",
   "execution_count": 7,
   "metadata": {
    "ExecuteTime": {
     "end_time": "2018-04-24T18:25:07.471319Z",
     "start_time": "2018-04-24T18:25:07.464410Z"
    }
   },
   "outputs": [],
   "source": [
    "output_filename = 'old_fikalists/summer18.fika'\n",
    "fikalist.save(output_filename)\n"
   ]
  },
  {
   "cell_type": "code",
   "execution_count": 8,
   "metadata": {
    "ExecuteTime": {
     "end_time": "2018-04-24T18:25:24.991217Z",
     "start_time": "2018-04-24T18:25:24.546481Z"
    }
   },
   "outputs": [
    {
     "data": {
      "text/html": [
       "<style  type=\"text/css\" >\n",
       "</style>  \n",
       "<table id=\"T_db2a9fa8_47ec_11e8_9514_acde48001122\" > \n",
       "<thead>    <tr> \n",
       "        <th class=\"blank level0\" ></th> \n",
       "        <th class=\"col_heading level0 col0\" >Week</th> \n",
       "        <th class=\"col_heading level0 col1\" >Friday</th> \n",
       "        <th class=\"col_heading level0 col2\" >Person 1</th> \n",
       "        <th class=\"col_heading level0 col3\" >Person 2</th> \n",
       "    </tr></thead> \n",
       "<tbody>    <tr> \n",
       "        <th id=\"T_db2a9fa8_47ec_11e8_9514_acde48001122level0_row0\" class=\"row_heading level0 row0\" >0</th> \n",
       "        <td id=\"T_db2a9fa8_47ec_11e8_9514_acde48001122row0_col0\" class=\"data row0 col0\" >17</td> \n",
       "        <td id=\"T_db2a9fa8_47ec_11e8_9514_acde48001122row0_col1\" class=\"data row0 col1\" >27/04/2018</td> \n",
       "        <td id=\"T_db2a9fa8_47ec_11e8_9514_acde48001122row0_col2\" class=\"data row0 col2\" >Rakhee</td> \n",
       "        <td id=\"T_db2a9fa8_47ec_11e8_9514_acde48001122row0_col3\" class=\"data row0 col3\" >Nirmal</td> \n",
       "    </tr>    <tr> \n",
       "        <th id=\"T_db2a9fa8_47ec_11e8_9514_acde48001122level0_row1\" class=\"row_heading level0 row1\" >1</th> \n",
       "        <td id=\"T_db2a9fa8_47ec_11e8_9514_acde48001122row1_col0\" class=\"data row1 col0\" >18</td> \n",
       "        <td id=\"T_db2a9fa8_47ec_11e8_9514_acde48001122row1_col1\" class=\"data row1 col1\" >04/05/2018</td> \n",
       "        <td id=\"T_db2a9fa8_47ec_11e8_9514_acde48001122row1_col2\" class=\"data row1 col2\" >Linda</td> \n",
       "        <td id=\"T_db2a9fa8_47ec_11e8_9514_acde48001122row1_col3\" class=\"data row1 col3\" >Bengt</td> \n",
       "    </tr>    <tr> \n",
       "        <th id=\"T_db2a9fa8_47ec_11e8_9514_acde48001122level0_row2\" class=\"row_heading level0 row2\" >2</th> \n",
       "        <td id=\"T_db2a9fa8_47ec_11e8_9514_acde48001122row2_col0\" class=\"data row2 col0\" >20</td> \n",
       "        <td id=\"T_db2a9fa8_47ec_11e8_9514_acde48001122row2_col1\" class=\"data row2 col1\" >18/05/2018</td> \n",
       "        <td id=\"T_db2a9fa8_47ec_11e8_9514_acde48001122row2_col2\" class=\"data row2 col2\" >Rupal</td> \n",
       "        <td id=\"T_db2a9fa8_47ec_11e8_9514_acde48001122row2_col3\" class=\"data row2 col3\" >Dennis</td> \n",
       "    </tr>    <tr> \n",
       "        <th id=\"T_db2a9fa8_47ec_11e8_9514_acde48001122level0_row3\" class=\"row_heading level0 row3\" >3</th> \n",
       "        <td id=\"T_db2a9fa8_47ec_11e8_9514_acde48001122row3_col0\" class=\"data row3 col0\" >21</td> \n",
       "        <td id=\"T_db2a9fa8_47ec_11e8_9514_acde48001122row3_col1\" class=\"data row3 col1\" >25/05/2018</td> \n",
       "        <td id=\"T_db2a9fa8_47ec_11e8_9514_acde48001122row3_col2\" class=\"data row3 col2\" >Felix</td> \n",
       "        <td id=\"T_db2a9fa8_47ec_11e8_9514_acde48001122row3_col3\" class=\"data row3 col3\" >Josefin</td> \n",
       "    </tr>    <tr> \n",
       "        <th id=\"T_db2a9fa8_47ec_11e8_9514_acde48001122level0_row4\" class=\"row_heading level0 row4\" >4</th> \n",
       "        <td id=\"T_db2a9fa8_47ec_11e8_9514_acde48001122row4_col0\" class=\"data row4 col0\" >22</td> \n",
       "        <td id=\"T_db2a9fa8_47ec_11e8_9514_acde48001122row4_col1\" class=\"data row4 col1\" >01/06/2018</td> \n",
       "        <td id=\"T_db2a9fa8_47ec_11e8_9514_acde48001122row4_col2\" class=\"data row4 col2\" >Victor</td> \n",
       "        <td id=\"T_db2a9fa8_47ec_11e8_9514_acde48001122row4_col3\" class=\"data row4 col3\" >Edvin</td> \n",
       "    </tr>    <tr> \n",
       "        <th id=\"T_db2a9fa8_47ec_11e8_9514_acde48001122level0_row5\" class=\"row_heading level0 row5\" >5</th> \n",
       "        <td id=\"T_db2a9fa8_47ec_11e8_9514_acde48001122row5_col0\" class=\"data row5 col0\" >23</td> \n",
       "        <td id=\"T_db2a9fa8_47ec_11e8_9514_acde48001122row5_col1\" class=\"data row5 col1\" >08/06/2018</td> \n",
       "        <td id=\"T_db2a9fa8_47ec_11e8_9514_acde48001122row5_col2\" class=\"data row5 col2\" >Thedi</td> \n",
       "        <td id=\"T_db2a9fa8_47ec_11e8_9514_acde48001122row5_col3\" class=\"data row5 col3\" >Björn</td> \n",
       "    </tr>    <tr> \n",
       "        <th id=\"T_db2a9fa8_47ec_11e8_9514_acde48001122level0_row6\" class=\"row_heading level0 row6\" >6</th> \n",
       "        <td id=\"T_db2a9fa8_47ec_11e8_9514_acde48001122row6_col0\" class=\"data row6 col0\" >24</td> \n",
       "        <td id=\"T_db2a9fa8_47ec_11e8_9514_acde48001122row6_col1\" class=\"data row6 col1\" >15/06/2018</td> \n",
       "        <td id=\"T_db2a9fa8_47ec_11e8_9514_acde48001122row6_col2\" class=\"data row6 col2\" >Christer</td> \n",
       "        <td id=\"T_db2a9fa8_47ec_11e8_9514_acde48001122row6_col3\" class=\"data row6 col3\" >Filip</td> \n",
       "    </tr>    <tr> \n",
       "        <th id=\"T_db2a9fa8_47ec_11e8_9514_acde48001122level0_row7\" class=\"row_heading level0 row7\" >7</th> \n",
       "        <td id=\"T_db2a9fa8_47ec_11e8_9514_acde48001122row7_col0\" class=\"data row7 col0\" >26</td> \n",
       "        <td id=\"T_db2a9fa8_47ec_11e8_9514_acde48001122row7_col1\" class=\"data row7 col1\" >29/06/2018</td> \n",
       "        <td id=\"T_db2a9fa8_47ec_11e8_9514_acde48001122row7_col2\" class=\"data row7 col2\" >Christian</td> \n",
       "        <td id=\"T_db2a9fa8_47ec_11e8_9514_acde48001122row7_col3\" class=\"data row7 col3\" >Francesca</td> \n",
       "    </tr>    <tr> \n",
       "        <th id=\"T_db2a9fa8_47ec_11e8_9514_acde48001122level0_row8\" class=\"row_heading level0 row8\" >8</th> \n",
       "        <td id=\"T_db2a9fa8_47ec_11e8_9514_acde48001122row8_col0\" class=\"data row8 col0\" >36</td> \n",
       "        <td id=\"T_db2a9fa8_47ec_11e8_9514_acde48001122row8_col1\" class=\"data row8 col1\" >07/09/2018</td> \n",
       "        <td id=\"T_db2a9fa8_47ec_11e8_9514_acde48001122row8_col2\" class=\"data row8 col2\" >Mark</td> \n",
       "        <td id=\"T_db2a9fa8_47ec_11e8_9514_acde48001122row8_col3\" class=\"data row8 col3\" >Jonas</td> \n",
       "    </tr>    <tr> \n",
       "        <th id=\"T_db2a9fa8_47ec_11e8_9514_acde48001122level0_row9\" class=\"row_heading level0 row9\" >9</th> \n",
       "        <td id=\"T_db2a9fa8_47ec_11e8_9514_acde48001122row9_col0\" class=\"data row9 col0\" >37</td> \n",
       "        <td id=\"T_db2a9fa8_47ec_11e8_9514_acde48001122row9_col1\" class=\"data row9 col1\" >14/09/2018</td> \n",
       "        <td id=\"T_db2a9fa8_47ec_11e8_9514_acde48001122row9_col2\" class=\"data row9 col2\" >Christoffer</td> \n",
       "        <td id=\"T_db2a9fa8_47ec_11e8_9514_acde48001122row9_col3\" class=\"data row9 col3\" >Zeynep</td> \n",
       "    </tr>    <tr> \n",
       "        <th id=\"T_db2a9fa8_47ec_11e8_9514_acde48001122level0_row10\" class=\"row_heading level0 row10\" >10</th> \n",
       "        <td id=\"T_db2a9fa8_47ec_11e8_9514_acde48001122row10_col0\" class=\"data row10 col0\" >38</td> \n",
       "        <td id=\"T_db2a9fa8_47ec_11e8_9514_acde48001122row10_col1\" class=\"data row10 col1\" >21/09/2018</td> \n",
       "        <td id=\"T_db2a9fa8_47ec_11e8_9514_acde48001122row10_col2\" class=\"data row10 col2\" >nan</td> \n",
       "        <td id=\"T_db2a9fa8_47ec_11e8_9514_acde48001122row10_col3\" class=\"data row10 col3\" >Mószi</td> \n",
       "    </tr>    <tr> \n",
       "        <th id=\"T_db2a9fa8_47ec_11e8_9514_acde48001122level0_row11\" class=\"row_heading level0 row11\" >11</th> \n",
       "        <td id=\"T_db2a9fa8_47ec_11e8_9514_acde48001122row11_col0\" class=\"data row11 col0\" >39</td> \n",
       "        <td id=\"T_db2a9fa8_47ec_11e8_9514_acde48001122row11_col1\" class=\"data row11 col1\" >28/09/2018</td> \n",
       "        <td id=\"T_db2a9fa8_47ec_11e8_9514_acde48001122row11_col2\" class=\"data row11 col2\" >Exjobbare</td> \n",
       "        <td id=\"T_db2a9fa8_47ec_11e8_9514_acde48001122row11_col3\" class=\"data row11 col3\" >nan</td> \n",
       "    </tr></tbody> \n",
       "</table> "
      ],
      "text/plain": [
       "<pandas.io.formats.style.Styler at 0x1138290f0>"
      ]
     },
     "execution_count": 8,
     "metadata": {},
     "output_type": "execute_result"
    }
   ],
   "source": [
    "df = fikalist.fikalist\n",
    "df.style\n"
   ]
  },
  {
   "cell_type": "code",
   "execution_count": null,
   "metadata": {},
   "outputs": [],
   "source": []
  }
 ],
 "metadata": {
  "kernelspec": {
   "display_name": "Python 3",
   "language": "python",
   "name": "python3"
  },
  "language_info": {
   "codemirror_mode": {
    "name": "ipython",
    "version": 3
   },
   "file_extension": ".py",
   "mimetype": "text/x-python",
   "name": "python",
   "nbconvert_exporter": "python",
   "pygments_lexer": "ipython3",
   "version": "3.6.4"
  }
 },
 "nbformat": 4,
 "nbformat_minor": 2
}
