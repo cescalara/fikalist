{
 "cells": [
  {
   "cell_type": "markdown",
   "metadata": {},
   "source": [
    "# Fikalist for Particle & Astroparticle Physics\n",
    "\n",
    "Input: old fikalist  \n",
    "Output: new fikalist based on weighted sampling without replacement"
   ]
  },
  {
   "cell_type": "code",
   "execution_count": 1,
   "metadata": {
    "ExecuteTime": {
     "end_time": "2019-01-21T09:47:54.297022Z",
     "start_time": "2019-01-21T09:47:54.129774Z"
    }
   },
   "outputs": [],
   "source": [
    "from fika import *"
   ]
  },
  {
   "cell_type": "markdown",
   "metadata": {},
   "source": [
    "## Input\n",
    "Input is a text file, containing the previous fikalist \n",
    "\n",
    "Something like:\n",
    "\n",
    "```\n",
    "#Week    Friday        Person1    Person2 \n",
    "3        19/01/2018    name1      name2           \n",
    "4        26/01/2018    name3      name4   \n",
    "5        02/02/2018    HOLIDAY:holidayname\n",
    "```\n",
    "\n",
    "Etc. Example files can be found in the ```old_fikalist/``` directory."
   ]
  },
  {
   "cell_type": "code",
   "execution_count": 2,
   "metadata": {
    "ExecuteTime": {
     "end_time": "2019-01-21T09:47:55.370560Z",
     "start_time": "2019-01-21T09:47:55.338539Z"
    }
   },
   "outputs": [
    {
     "name": "stdout",
     "output_type": "stream",
     "text": [
      "Filip\n",
      "Francesca\n",
      "Rupal\n",
      "Mark\n",
      "Navpreet\n",
      "David\n",
      "Bengt\n",
      "Felix\n",
      "Jonas\n",
      "Linda\n",
      "Björn\n",
      "Christian\n",
      "Moszi\n",
      "Josefin\n",
      "Thedi\n",
      "Dennis\n",
      "Nirmal\n",
      "Rakhee\n",
      "Zeynep\n",
      "Christer\n",
      "Exjobbare\n"
     ]
    }
   ],
   "source": [
    "# input data\n",
    "filename = 'old_fikalists/autumn18_edits.fika'\n",
    "fikalist = FikaList()\n",
    "fikalist.input_list(filename)\n",
    "\n",
    "# show all the potential fika providers\n",
    "fikalist.providers.show()"
   ]
  },
  {
   "cell_type": "markdown",
   "metadata": {},
   "source": [
    "## Editing the providers\n",
    "\n",
    "The people in the group are constantly changing so we will need to update who is actually around to take part in fika. This can be done by adding and removing providers."
   ]
  },
  {
   "cell_type": "code",
   "execution_count": 3,
   "metadata": {
    "ExecuteTime": {
     "end_time": "2019-01-21T09:47:56.686911Z",
     "start_time": "2019-01-21T09:47:56.682419Z"
    }
   },
   "outputs": [
    {
     "name": "stdout",
     "output_type": "stream",
     "text": [
      "Farewell, David!\n",
      "Welcome, Giulia!\n",
      "Welcome, Vlasta!\n",
      "Alex is not in the list of providers...\n"
     ]
    }
   ],
   "source": [
    "# update by adding and removing people, use lists if you like.\n",
    "fikalist.providers.remove(['David'])\n",
    "fikalist.providers.add('Giulia')\n",
    "fikalist.providers.add('Vlasta')\n",
    "\n",
    "# FikaList even handles your errors\n",
    "fikalist.providers.remove('Alex')"
   ]
  },
  {
   "cell_type": "markdown",
   "metadata": {},
   "source": [
    "## Constraints\n",
    "\n",
    "Sadly fika is not always simple and we have to take into account constraints when making the list. This includes Swedish holidays which fall on a Friday (or Thursday...) and also people who are leaving soon and won't be able to provide fika after a certain date. It can also be convenient for couples who live together to have the same fika date. No fear! This can be handled with ```FikaList.constraints```.\n",
    "\n",
    "Major holidays (summer, winter and Easter) are already programmed into the ```FikaList``` class as well as Swedish *red days*."
   ]
  },
  {
   "cell_type": "code",
   "execution_count": 4,
   "metadata": {
    "ExecuteTime": {
     "end_time": "2019-01-21T09:47:58.685520Z",
     "start_time": "2019-01-21T09:47:58.682268Z"
    }
   },
   "outputs": [],
   "source": [
    "# Bump up Giulia and Vlasta as they just returned\n",
    "fikalist.constraints.add('Giulia', 'just arrived')\n",
    "fikalist.constraints.add('Vlasta', 'just arrived')\n",
    "\n",
    "# Rakhee and Nirmal live together, so they should have the same fika date\n",
    "fikalist.constraints.add(['Rakhee', 'Nirmal'], 'together')"
   ]
  },
  {
   "cell_type": "markdown",
   "metadata": {},
   "source": [
    "## Generating the list\n",
    "\n",
    "Now that everything is up to date and the constraints are defined, we can go ahead and make a fikalist.\n",
    "\n",
    "The order is determined by random sampling without replacement, with people who made fika a long time ago weighted preferentially. Also, people are put together with someone who they have not been with in the previous list."
   ]
  },
  {
   "cell_type": "code",
   "execution_count": 5,
   "metadata": {
    "ExecuteTime": {
     "end_time": "2019-01-21T09:48:02.794717Z",
     "start_time": "2019-01-21T09:48:02.666835Z"
    }
   },
   "outputs": [
    {
     "data": {
      "text/html": [
       "<div>\n",
       "<style>\n",
       "    .dataframe thead tr:only-child th {\n",
       "        text-align: right;\n",
       "    }\n",
       "\n",
       "    .dataframe thead th {\n",
       "        text-align: left;\n",
       "    }\n",
       "\n",
       "    .dataframe tbody tr th {\n",
       "        vertical-align: top;\n",
       "    }\n",
       "</style>\n",
       "<table border=\"1\" class=\"dataframe\">\n",
       "  <thead>\n",
       "    <tr style=\"text-align: right;\">\n",
       "      <th></th>\n",
       "      <th>Week</th>\n",
       "      <th>Friday</th>\n",
       "      <th>Person 1</th>\n",
       "      <th>Person 2</th>\n",
       "    </tr>\n",
       "  </thead>\n",
       "  <tbody>\n",
       "    <tr>\n",
       "      <th>0</th>\n",
       "      <td>4</td>\n",
       "      <td>25/01/2019</td>\n",
       "      <td>Dennis</td>\n",
       "      <td>Francesca</td>\n",
       "    </tr>\n",
       "    <tr>\n",
       "      <th>1</th>\n",
       "      <td>5</td>\n",
       "      <td>01/02/2019</td>\n",
       "      <td>Giulia</td>\n",
       "      <td>Vlasta</td>\n",
       "    </tr>\n",
       "    <tr>\n",
       "      <th>2</th>\n",
       "      <td>6</td>\n",
       "      <td>08/02/2019</td>\n",
       "      <td>Nirmal</td>\n",
       "      <td>Rakhee</td>\n",
       "    </tr>\n",
       "    <tr>\n",
       "      <th>3</th>\n",
       "      <td>7</td>\n",
       "      <td>15/02/2019</td>\n",
       "      <td>Felix</td>\n",
       "      <td>Navpreet</td>\n",
       "    </tr>\n",
       "    <tr>\n",
       "      <th>4</th>\n",
       "      <td>8</td>\n",
       "      <td>22/02/2019</td>\n",
       "      <td>Mark</td>\n",
       "      <td>Linda</td>\n",
       "    </tr>\n",
       "    <tr>\n",
       "      <th>5</th>\n",
       "      <td>9</td>\n",
       "      <td>01/03/2019</td>\n",
       "      <td>Filip</td>\n",
       "      <td>Rupal</td>\n",
       "    </tr>\n",
       "    <tr>\n",
       "      <th>6</th>\n",
       "      <td>10</td>\n",
       "      <td>08/03/2019</td>\n",
       "      <td>Jonas</td>\n",
       "      <td>Christer</td>\n",
       "    </tr>\n",
       "    <tr>\n",
       "      <th>7</th>\n",
       "      <td>11</td>\n",
       "      <td>15/03/2019</td>\n",
       "      <td>Thedi</td>\n",
       "      <td>Björn</td>\n",
       "    </tr>\n",
       "    <tr>\n",
       "      <th>8</th>\n",
       "      <td>12</td>\n",
       "      <td>22/03/2019</td>\n",
       "      <td>Bengt</td>\n",
       "      <td>Christian</td>\n",
       "    </tr>\n",
       "    <tr>\n",
       "      <th>9</th>\n",
       "      <td>13</td>\n",
       "      <td>29/03/2019</td>\n",
       "      <td>nan</td>\n",
       "      <td>Moszi</td>\n",
       "    </tr>\n",
       "    <tr>\n",
       "      <th>10</th>\n",
       "      <td>14</td>\n",
       "      <td>05/04/2019</td>\n",
       "      <td>Josefin</td>\n",
       "      <td>Zeynep</td>\n",
       "    </tr>\n",
       "    <tr>\n",
       "      <th>11</th>\n",
       "      <td>15</td>\n",
       "      <td>12/04/2019</td>\n",
       "      <td>Exjobbare</td>\n",
       "      <td>nan</td>\n",
       "    </tr>\n",
       "  </tbody>\n",
       "</table>\n",
       "</div>"
      ],
      "text/plain": [
       "   Week      Friday   Person 1   Person 2\n",
       "0     4  25/01/2019     Dennis  Francesca\n",
       "1     5  01/02/2019     Giulia     Vlasta\n",
       "2     6  08/02/2019     Nirmal     Rakhee\n",
       "3     7  15/02/2019      Felix   Navpreet\n",
       "4     8  22/02/2019       Mark      Linda\n",
       "5     9  01/03/2019      Filip      Rupal\n",
       "6    10  08/03/2019      Jonas   Christer\n",
       "7    11  15/03/2019      Thedi      Björn\n",
       "8    12  22/03/2019      Bengt  Christian\n",
       "9    13  29/03/2019        nan      Moszi\n",
       "10   14  05/04/2019    Josefin     Zeynep\n",
       "11   15  12/04/2019  Exjobbare        nan"
      ]
     },
     "metadata": {},
     "output_type": "display_data"
    }
   ],
   "source": [
    "# NB: only run this block once without reinitialising\n",
    "fikalist.generate()\n",
    "\n",
    "# show the generated list\n",
    "fikalist.show()\n",
    "# fikalist.print()"
   ]
  },
  {
   "cell_type": "markdown",
   "metadata": {
    "ExecuteTime": {
     "end_time": "2018-04-24T17:16:16.216059Z",
     "start_time": "2018-04-24T17:16:16.201370Z"
    }
   },
   "source": [
    "## Save the list\n",
    "Now that you have a new list, you can save it for use as input next time. "
   ]
  },
  {
   "cell_type": "code",
   "execution_count": 6,
   "metadata": {
    "ExecuteTime": {
     "end_time": "2019-01-21T09:48:14.667817Z",
     "start_time": "2019-01-21T09:48:14.660302Z"
    }
   },
   "outputs": [],
   "source": [
    "output_filename = 'old_fikalists/winter19.fika'\n",
    "fikalist.save(output_filename)"
   ]
  }
 ],
 "metadata": {
  "kernelspec": {
   "display_name": "Python 3",
   "language": "python",
   "name": "python3"
  },
  "language_info": {
   "codemirror_mode": {
    "name": "ipython",
    "version": 3
   },
   "file_extension": ".py",
   "mimetype": "text/x-python",
   "name": "python",
   "nbconvert_exporter": "python",
   "pygments_lexer": "ipython3",
   "version": "3.6.4"
  }
 },
 "nbformat": 4,
 "nbformat_minor": 2
}
