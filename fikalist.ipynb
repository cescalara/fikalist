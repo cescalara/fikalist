{
 "cells": [
  {
   "cell_type": "markdown",
   "metadata": {},
   "source": [
    "# Fikalist for Particle & Astroparticle Physics\n",
    "\n",
    "Input: old fikalist  \n",
    "Output: new fikalist based on weighted sampling without replacement"
   ]
  },
  {
   "cell_type": "code",
   "execution_count": 2,
   "metadata": {
    "ExecuteTime": {
     "end_time": "2019-04-08T18:06:12.380986Z",
     "start_time": "2019-04-08T18:06:12.112992Z"
    }
   },
   "outputs": [],
   "source": [
    "from fika import *"
   ]
  },
  {
   "cell_type": "markdown",
   "metadata": {},
   "source": [
    "## Input\n",
    "Input is a text file, containing the previous fikalist \n",
    "\n",
    "Something like:\n",
    "\n",
    "```\n",
    "#Week    Friday        Person1    Person2 \n",
    "3        19/01/2018    name1      name2           \n",
    "4        26/01/2018    name3      name4   \n",
    "5        02/02/2018    HOLIDAY:holidayname\n",
    "```\n",
    "\n",
    "Etc. Example files can be found in the ```old_fikalist/``` directory."
   ]
  },
  {
   "cell_type": "code",
   "execution_count": 25,
   "metadata": {
    "ExecuteTime": {
     "end_time": "2019-04-08T18:09:52.288468Z",
     "start_time": "2019-04-08T18:09:52.280848Z"
    }
   },
   "outputs": [
    {
     "name": "stdout",
     "output_type": "stream",
     "text": [
      "Dennis\n",
      "Francesca\n",
      "Giulia\n",
      "Björn\n",
      "Nirmal\n",
      "Rakhee\n",
      "Zeynep\n",
      "Navpreet\n",
      "Mark\n",
      "Linda\n",
      "Filip\n",
      "Rupal\n",
      "Jonas\n",
      "Christer\n",
      "Thedi\n",
      "Vlasta\n",
      "Bengt\n",
      "Christian\n",
      "Josefin\n",
      "Felix\n",
      "Exjobbare\n",
      "Moszi\n"
     ]
    }
   ],
   "source": [
    "# input data\n",
    "filename = 'old_fikalists/winter19_edits.fika'\n",
    "fikalist = FikaList()\n",
    "fikalist.input_list(filename)\n",
    "\n",
    "# show all the potential fika providers\n",
    "fikalist.providers.show()"
   ]
  },
  {
   "cell_type": "markdown",
   "metadata": {},
   "source": [
    "## Editing the providers\n",
    "\n",
    "The people in the group are constantly changing so we will need to update who is actually around to take part in fika. This can be done by adding and removing providers."
   ]
  },
  {
   "cell_type": "code",
   "execution_count": 26,
   "metadata": {
    "ExecuteTime": {
     "end_time": "2019-04-08T18:09:53.072721Z",
     "start_time": "2019-04-08T18:09:53.069015Z"
    }
   },
   "outputs": [
    {
     "name": "stdout",
     "output_type": "stream",
     "text": [
      "Alex is not in the list of providers...\n"
     ]
    }
   ],
   "source": [
    "# update by adding and removing people, use lists if you like.\n",
    "# I think everyone is the same right now...\n",
    "#fikalist.providers.add('Giulia')\n",
    "\n",
    "# FikaList even handles your errors\n",
    "fikalist.providers.remove('Bjorn')"
   ]
  },
  {
   "cell_type": "markdown",
   "metadata": {},
   "source": [
    "## Constraints\n",
    "\n",
    "Sadly fika is not always simple and we have to take into account constraints when making the list. This includes Swedish holidays which fall on a Friday (or Thursday...) and also people who are leaving soon and won't be able to provide fika after a certain date. It can also be convenient for couples who live together to have the same fika date. No fear! This can be handled with ```FikaList.constraints```.\n",
    "\n",
    "Major holidays (summer, winter and Easter) are already programmed into the ```FikaList``` class as well as Swedish *red days*."
   ]
  },
  {
   "cell_type": "code",
   "execution_count": 27,
   "metadata": {
    "ExecuteTime": {
     "end_time": "2019-04-08T18:09:53.971471Z",
     "start_time": "2019-04-08T18:09:53.968462Z"
    }
   },
   "outputs": [],
   "source": [
    "# Example of how to bump up someone who has just arrived\n",
    "#fikalist.constraints.add('Giulia', 'just arrived')\n",
    "\n",
    "# Rakhee and Nirmal live together, so they should have the same fika date\n",
    "fikalist.constraints.add(['Rakhee', 'Nirmal'], 'together')"
   ]
  },
  {
   "cell_type": "markdown",
   "metadata": {},
   "source": [
    "## Generating the list\n",
    "\n",
    "Now that everything is up to date and the constraints are defined, we can go ahead and make a fikalist.\n",
    "\n",
    "The order is determined by random sampling without replacement, with people who made fika a long time ago weighted preferentially. Also, people are put together with someone who they have not been with in the previous list."
   ]
  },
  {
   "cell_type": "code",
   "execution_count": 28,
   "metadata": {
    "ExecuteTime": {
     "end_time": "2019-04-08T18:09:54.803575Z",
     "start_time": "2019-04-08T18:09:54.800737Z"
    }
   },
   "outputs": [],
   "source": [
    "from datetime import date, timedelta\n",
    "\n",
    "# specify the desired start date \n",
    "start_date = date(2019, 4, 15)"
   ]
  },
  {
   "cell_type": "code",
   "execution_count": 29,
   "metadata": {
    "ExecuteTime": {
     "end_time": "2019-04-08T18:09:55.571949Z",
     "start_time": "2019-04-08T18:09:55.449688Z"
    }
   },
   "outputs": [
    {
     "data": {
      "text/html": [
       "<div>\n",
       "<style>\n",
       "    .dataframe thead tr:only-child th {\n",
       "        text-align: right;\n",
       "    }\n",
       "\n",
       "    .dataframe thead th {\n",
       "        text-align: left;\n",
       "    }\n",
       "\n",
       "    .dataframe tbody tr th {\n",
       "        vertical-align: top;\n",
       "    }\n",
       "</style>\n",
       "<table border=\"1\" class=\"dataframe\">\n",
       "  <thead>\n",
       "    <tr style=\"text-align: right;\">\n",
       "      <th></th>\n",
       "      <th>Week</th>\n",
       "      <th>Friday</th>\n",
       "      <th>Person 1</th>\n",
       "      <th>Person 2</th>\n",
       "    </tr>\n",
       "  </thead>\n",
       "  <tbody>\n",
       "    <tr>\n",
       "      <th>0</th>\n",
       "      <td>17</td>\n",
       "      <td>26/04/2019</td>\n",
       "      <td>Zeynep</td>\n",
       "      <td>Björn</td>\n",
       "    </tr>\n",
       "    <tr>\n",
       "      <th>1</th>\n",
       "      <td>18</td>\n",
       "      <td>03/05/2019</td>\n",
       "      <td>Navpreet</td>\n",
       "      <td>Dennis</td>\n",
       "    </tr>\n",
       "    <tr>\n",
       "      <th>2</th>\n",
       "      <td>19</td>\n",
       "      <td>10/05/2019</td>\n",
       "      <td>Nirmal</td>\n",
       "      <td>Rakhee</td>\n",
       "    </tr>\n",
       "    <tr>\n",
       "      <th>3</th>\n",
       "      <td>20</td>\n",
       "      <td>17/05/2019</td>\n",
       "      <td>Jonas</td>\n",
       "      <td>Mark</td>\n",
       "    </tr>\n",
       "    <tr>\n",
       "      <th>4</th>\n",
       "      <td>21</td>\n",
       "      <td>24/05/2019</td>\n",
       "      <td>Francesca</td>\n",
       "      <td>Linda</td>\n",
       "    </tr>\n",
       "    <tr>\n",
       "      <th>5</th>\n",
       "      <td>24</td>\n",
       "      <td>14/06/2019</td>\n",
       "      <td>Rupal</td>\n",
       "      <td>Felix</td>\n",
       "    </tr>\n",
       "    <tr>\n",
       "      <th>6</th>\n",
       "      <td>36</td>\n",
       "      <td>06/09/2019</td>\n",
       "      <td>Thedi</td>\n",
       "      <td>Giulia</td>\n",
       "    </tr>\n",
       "    <tr>\n",
       "      <th>7</th>\n",
       "      <td>37</td>\n",
       "      <td>13/09/2019</td>\n",
       "      <td>Filip</td>\n",
       "      <td>Christian</td>\n",
       "    </tr>\n",
       "    <tr>\n",
       "      <th>8</th>\n",
       "      <td>38</td>\n",
       "      <td>20/09/2019</td>\n",
       "      <td>Christer</td>\n",
       "      <td>Vlasta</td>\n",
       "    </tr>\n",
       "    <tr>\n",
       "      <th>9</th>\n",
       "      <td>39</td>\n",
       "      <td>27/09/2019</td>\n",
       "      <td>Josefin</td>\n",
       "      <td>Exjobbare</td>\n",
       "    </tr>\n",
       "    <tr>\n",
       "      <th>10</th>\n",
       "      <td>40</td>\n",
       "      <td>04/10/2019</td>\n",
       "      <td>Moszi</td>\n",
       "      <td>Bengt</td>\n",
       "    </tr>\n",
       "  </tbody>\n",
       "</table>\n",
       "</div>"
      ],
      "text/plain": [
       "   Week      Friday   Person 1   Person 2\n",
       "0    17  26/04/2019     Zeynep      Björn\n",
       "1    18  03/05/2019   Navpreet     Dennis\n",
       "2    19  10/05/2019     Nirmal     Rakhee\n",
       "3    20  17/05/2019      Jonas       Mark\n",
       "4    21  24/05/2019  Francesca      Linda\n",
       "5    24  14/06/2019      Rupal      Felix\n",
       "6    36  06/09/2019      Thedi     Giulia\n",
       "7    37  13/09/2019      Filip  Christian\n",
       "8    38  20/09/2019   Christer     Vlasta\n",
       "9    39  27/09/2019    Josefin  Exjobbare\n",
       "10   40  04/10/2019      Moszi      Bengt"
      ]
     },
     "metadata": {},
     "output_type": "display_data"
    }
   ],
   "source": [
    "# NB: only run this block once without reinitialising\n",
    "fikalist.generate(start_date=start_date)\n",
    "\n",
    "# show the generated list\n",
    "fikalist.show()\n",
    "# fikalist.print()"
   ]
  },
  {
   "cell_type": "markdown",
   "metadata": {
    "ExecuteTime": {
     "end_time": "2018-04-24T17:16:16.216059Z",
     "start_time": "2018-04-24T17:16:16.201370Z"
    }
   },
   "source": [
    "## Save the list\n",
    "Now that you have a new list, you can save it for use as input next time. "
   ]
  },
  {
   "cell_type": "code",
   "execution_count": 30,
   "metadata": {
    "ExecuteTime": {
     "end_time": "2019-04-08T18:13:25.623832Z",
     "start_time": "2019-04-08T18:13:25.617260Z"
    }
   },
   "outputs": [],
   "source": [
    "output_filename = 'old_fikalists/spring19.fika'\n",
    "fikalist.save(output_filename)"
   ]
  }
 ],
 "metadata": {
  "kernelspec": {
   "display_name": "Python 3",
   "language": "python",
   "name": "python3"
  },
  "language_info": {
   "codemirror_mode": {
    "name": "ipython",
    "version": 3
   },
   "file_extension": ".py",
   "mimetype": "text/x-python",
   "name": "python",
   "nbconvert_exporter": "python",
   "pygments_lexer": "ipython3",
   "version": "3.6.4"
  }
 },
 "nbformat": 4,
 "nbformat_minor": 2
}
