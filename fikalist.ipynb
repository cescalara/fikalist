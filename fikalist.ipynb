{
 "cells": [
  {
   "cell_type": "markdown",
   "metadata": {},
   "source": [
    "# Fikalist for Particle & Astroparticle Physics\n",
    "\n",
    "Input: old fikalist  \n",
    "Output: new fikalist based on weighted sampling without replacement"
   ]
  },
  {
   "cell_type": "code",
   "execution_count": 1,
   "metadata": {
    "ExecuteTime": {
     "end_time": "2020-01-21T12:40:13.158463Z",
     "start_time": "2020-01-21T12:40:12.321360Z"
    }
   },
   "outputs": [],
   "source": [
    "from fika import *"
   ]
  },
  {
   "cell_type": "markdown",
   "metadata": {},
   "source": [
    "## Input\n",
    "Input is a text file, containing the previous fikalist \n",
    "\n",
    "Something like:\n",
    "\n",
    "```\n",
    "#Week    Friday        Person1    Person2 \n",
    "3        19/01/2018    name1      name2           \n",
    "4        26/01/2018    name3      name4   \n",
    "5        02/02/2018    HOLIDAY:holidayname\n",
    "```\n",
    "\n",
    "Etc. Example files can be found in the ```old_fikalist/``` directory."
   ]
  },
  {
   "cell_type": "code",
   "execution_count": 15,
   "metadata": {
    "ExecuteTime": {
     "end_time": "2020-01-21T12:47:57.973169Z",
     "start_time": "2020-01-21T12:47:57.964495Z"
    }
   },
   "outputs": [
    {
     "name": "stdout",
     "output_type": "stream",
     "text": [
      "Dennis\n",
      "Filip\n",
      "Francesca\n",
      "Björn\n",
      "Vlasta\n",
      "Giulia\n",
      "Marcus\n",
      "Fredrik\n",
      "Nirmal\n",
      "Rakhee\n",
      "Josefin\n",
      "Mattias\n",
      "Zeynep\n",
      "Felix\n",
      "Navpreet\n",
      "Rabia\n",
      "Bengt\n",
      "Mark\n",
      "Manojit\n",
      "Jonas\n",
      "Thedi\n",
      "Moszi\n",
      "Christian\n",
      "Exjobbare\n"
     ]
    }
   ],
   "source": [
    "# input data\n",
    "filename = 'old_fikalists/autumn19_edits.fika'\n",
    "fikalist = FikaList()\n",
    "fikalist.input_list(filename)\n",
    "\n",
    "# show all the potential fika providers\n",
    "fikalist.providers.show()"
   ]
  },
  {
   "cell_type": "markdown",
   "metadata": {},
   "source": [
    "## Editing the providers\n",
    "\n",
    "The people in the group are constantly changing so we will need to update who is actually around to take part in fika. This can be done by adding and removing providers."
   ]
  },
  {
   "cell_type": "code",
   "execution_count": 16,
   "metadata": {
    "ExecuteTime": {
     "end_time": "2020-01-21T12:48:00.464958Z",
     "start_time": "2020-01-21T12:48:00.459176Z"
    }
   },
   "outputs": [
    {
     "name": "stdout",
     "output_type": "stream",
     "text": [
      "Welcome, David!\n",
      "Welcome, Olle!\n",
      "Welcome, Tommy!\n",
      "Welcome, Sandhya!\n",
      "Welcome, Christer!\n",
      "Farewell, Zeynep!\n",
      "Farewell, Björn!\n",
      "Farewell, Thedi!\n",
      "Farewell, Moszi!\n",
      "Linda is not in the list of providers...\n"
     ]
    }
   ],
   "source": [
    "# update by adding and removing people, use lists if you like.\n",
    "fikalist.providers.add(['David', 'Olle']) # new Postdocs!\n",
    "fikalist.providers.add(['Tommy', 'Sandhya']) # Theory people!\n",
    "fikalist.providers.add(['Christer'])\n",
    "fikalist.providers.remove(['Zeynep', 'Björn'])\n",
    "\n",
    "# Remove Thedi and Moszi as they will do next week\n",
    "fikalist.providers.remove(['Thedi', 'Moszi'])\n",
    "\n",
    "# FikaList even handles your errors\n",
    "fikalist.providers.remove('Linda')"
   ]
  },
  {
   "cell_type": "markdown",
   "metadata": {},
   "source": [
    "## Constraints\n",
    "\n",
    "Sadly fika is not always simple and we have to take into account constraints when making the list. This includes Swedish holidays which fall on a Friday (or Thursday...) and also people who are leaving soon and won't be able to provide fika after a certain date. It can also be convenient for couples who live together to have the same fika date. No fear! This can be handled with ```FikaList.constraints```.\n",
    "\n",
    "Major holidays (summer, winter and Easter) are already programmed into the ```FikaList``` class as well as Swedish *red days*."
   ]
  },
  {
   "cell_type": "code",
   "execution_count": 17,
   "metadata": {
    "ExecuteTime": {
     "end_time": "2020-01-21T12:48:02.623364Z",
     "start_time": "2020-01-21T12:48:02.620004Z"
    }
   },
   "outputs": [],
   "source": [
    "# Example of how to bump up someone who has just arrived\n",
    "#fikalist.constraints.add('Francesca', 'just arrived')\n",
    "\n",
    "# bump up Bengt as he skipped last time!\n",
    "#fikalist.constraints.add('Bengt', 'just arrived')\n",
    "\n",
    "# Rakhee and Nirmal live together, so they should have the same fika date\n",
    "fikalist.constraints.add(['Rakhee', 'Nirmal'], 'together')"
   ]
  },
  {
   "cell_type": "markdown",
   "metadata": {},
   "source": [
    "## Generating the list\n",
    "\n",
    "Now that everything is up to date and the constraints are defined, we can go ahead and make a fikalist.\n",
    "\n",
    "The order is determined by random sampling without replacement, with people who made fika a long time ago weighted preferentially. Also, people are put together with someone who they have not been with in the previous list."
   ]
  },
  {
   "cell_type": "code",
   "execution_count": 18,
   "metadata": {
    "ExecuteTime": {
     "end_time": "2020-01-21T12:48:04.071393Z",
     "start_time": "2020-01-21T12:48:04.068461Z"
    }
   },
   "outputs": [],
   "source": [
    "from datetime import date, timedelta\n",
    "\n",
    "# specify the desired start date \n",
    "start_date = date(2020, 1, 29)"
   ]
  },
  {
   "cell_type": "code",
   "execution_count": 19,
   "metadata": {
    "ExecuteTime": {
     "end_time": "2020-01-21T12:48:11.762458Z",
     "start_time": "2020-01-21T12:48:11.653730Z"
    }
   },
   "outputs": [
    {
     "data": {
      "text/html": [
       "<div>\n",
       "<style scoped>\n",
       "    .dataframe tbody tr th:only-of-type {\n",
       "        vertical-align: middle;\n",
       "    }\n",
       "\n",
       "    .dataframe tbody tr th {\n",
       "        vertical-align: top;\n",
       "    }\n",
       "\n",
       "    .dataframe thead th {\n",
       "        text-align: right;\n",
       "    }\n",
       "</style>\n",
       "<table border=\"1\" class=\"dataframe\">\n",
       "  <thead>\n",
       "    <tr style=\"text-align: right;\">\n",
       "      <th></th>\n",
       "      <th>Week</th>\n",
       "      <th>Friday</th>\n",
       "      <th>Person 1</th>\n",
       "      <th>Person 2</th>\n",
       "    </tr>\n",
       "  </thead>\n",
       "  <tbody>\n",
       "    <tr>\n",
       "      <td>0</td>\n",
       "      <td>5</td>\n",
       "      <td>31/01/2020</td>\n",
       "      <td>Jonas</td>\n",
       "      <td>Tommy</td>\n",
       "    </tr>\n",
       "    <tr>\n",
       "      <td>1</td>\n",
       "      <td>6</td>\n",
       "      <td>07/02/2020</td>\n",
       "      <td>Bengt</td>\n",
       "      <td>Sandhya</td>\n",
       "    </tr>\n",
       "    <tr>\n",
       "      <td>2</td>\n",
       "      <td>7</td>\n",
       "      <td>14/02/2020</td>\n",
       "      <td>Filip</td>\n",
       "      <td>Vlasta</td>\n",
       "    </tr>\n",
       "    <tr>\n",
       "      <td>3</td>\n",
       "      <td>8</td>\n",
       "      <td>21/02/2020</td>\n",
       "      <td>Olle</td>\n",
       "      <td>Giulia</td>\n",
       "    </tr>\n",
       "    <tr>\n",
       "      <td>4</td>\n",
       "      <td>9</td>\n",
       "      <td>28/02/2020</td>\n",
       "      <td>Rakhee</td>\n",
       "      <td>Nirmal</td>\n",
       "    </tr>\n",
       "    <tr>\n",
       "      <td>5</td>\n",
       "      <td>10</td>\n",
       "      <td>06/03/2020</td>\n",
       "      <td>Dennis</td>\n",
       "      <td>Josefin</td>\n",
       "    </tr>\n",
       "    <tr>\n",
       "      <td>6</td>\n",
       "      <td>11</td>\n",
       "      <td>13/03/2020</td>\n",
       "      <td>Francesca</td>\n",
       "      <td>Mattias</td>\n",
       "    </tr>\n",
       "    <tr>\n",
       "      <td>7</td>\n",
       "      <td>12</td>\n",
       "      <td>20/03/2020</td>\n",
       "      <td>David</td>\n",
       "      <td>Rabia</td>\n",
       "    </tr>\n",
       "    <tr>\n",
       "      <td>8</td>\n",
       "      <td>13</td>\n",
       "      <td>27/03/2020</td>\n",
       "      <td>Christer</td>\n",
       "      <td>Navpreet</td>\n",
       "    </tr>\n",
       "    <tr>\n",
       "      <td>9</td>\n",
       "      <td>14</td>\n",
       "      <td>03/04/2020</td>\n",
       "      <td>Christian</td>\n",
       "      <td>Fredrik</td>\n",
       "    </tr>\n",
       "    <tr>\n",
       "      <td>10</td>\n",
       "      <td>16</td>\n",
       "      <td>17/04/2020</td>\n",
       "      <td>Mark</td>\n",
       "      <td>Marcus</td>\n",
       "    </tr>\n",
       "    <tr>\n",
       "      <td>11</td>\n",
       "      <td>17</td>\n",
       "      <td>24/04/2020</td>\n",
       "      <td>Felix</td>\n",
       "      <td>Exjobbare</td>\n",
       "    </tr>\n",
       "    <tr>\n",
       "      <td>12</td>\n",
       "      <td>19</td>\n",
       "      <td>08/05/2020</td>\n",
       "      <td>Manojit</td>\n",
       "      <td>nan</td>\n",
       "    </tr>\n",
       "  </tbody>\n",
       "</table>\n",
       "</div>"
      ],
      "text/plain": [
       "   Week      Friday   Person 1   Person 2\n",
       "0     5  31/01/2020      Jonas      Tommy\n",
       "1     6  07/02/2020      Bengt    Sandhya\n",
       "2     7  14/02/2020      Filip     Vlasta\n",
       "3     8  21/02/2020       Olle     Giulia\n",
       "4     9  28/02/2020     Rakhee     Nirmal\n",
       "5    10  06/03/2020     Dennis    Josefin\n",
       "6    11  13/03/2020  Francesca    Mattias\n",
       "7    12  20/03/2020      David      Rabia\n",
       "8    13  27/03/2020   Christer   Navpreet\n",
       "9    14  03/04/2020  Christian    Fredrik\n",
       "10   16  17/04/2020       Mark     Marcus\n",
       "11   17  24/04/2020      Felix  Exjobbare\n",
       "12   19  08/05/2020    Manojit        nan"
      ]
     },
     "metadata": {},
     "output_type": "display_data"
    }
   ],
   "source": [
    "# NB: only run this block once without reinitialising\n",
    "fikalist.generate(start_date=start_date)\n",
    "\n",
    "# show the generated list\n",
    "df = fikalist.show()\n",
    "# fikalist.print()"
   ]
  },
  {
   "cell_type": "markdown",
   "metadata": {
    "ExecuteTime": {
     "end_time": "2018-04-24T17:16:16.216059Z",
     "start_time": "2018-04-24T17:16:16.201370Z"
    }
   },
   "source": [
    "## Save the list\n",
    "Now that you have a new list, you can save it for use as input next time. "
   ]
  },
  {
   "cell_type": "code",
   "execution_count": 20,
   "metadata": {
    "ExecuteTime": {
     "end_time": "2020-01-21T13:06:58.345479Z",
     "start_time": "2020-01-21T13:06:58.338567Z"
    }
   },
   "outputs": [],
   "source": [
    "output_filename = 'old_fikalists/spring20.fika'\n",
    "fikalist.save(output_filename)"
   ]
  },
  {
   "cell_type": "code",
   "execution_count": null,
   "metadata": {},
   "outputs": [],
   "source": []
  }
 ],
 "metadata": {
  "kernelspec": {
   "display_name": "Python 3",
   "language": "python",
   "name": "python3"
  },
  "language_info": {
   "codemirror_mode": {
    "name": "ipython",
    "version": 3
   },
   "file_extension": ".py",
   "mimetype": "text/x-python",
   "name": "python",
   "nbconvert_exporter": "python",
   "pygments_lexer": "ipython3",
   "version": "3.7.6"
  }
 },
 "nbformat": 4,
 "nbformat_minor": 2
}
