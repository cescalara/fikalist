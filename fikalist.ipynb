{
 "cells": [
  {
   "cell_type": "markdown",
   "metadata": {},
   "source": [
    "# Fikalist generator for Particle & Astroparticle Physics\n",
    "\n",
    "Input: old fikalist  \n",
    "Output: new fikalist based on weighted sampling without replacement"
   ]
  },
  {
   "cell_type": "code",
   "execution_count": 45,
   "metadata": {
    "ExecuteTime": {
     "end_time": "2018-10-16T08:00:38.490057Z",
     "start_time": "2018-10-16T08:00:38.486999Z"
    }
   },
   "outputs": [],
   "source": [
    "from fika import *"
   ]
  },
  {
   "cell_type": "markdown",
   "metadata": {},
   "source": [
    "## Input\n",
    "Input is a text file, containing the previous fikalist \n",
    "\n",
    "Something like:\n",
    "\n",
    "```\n",
    "#Week    Friday        Person1    Person2 \n",
    "3        19/01/2018    name1      name2           \n",
    "4        26/01/2018    name3      name4   \n",
    "5        02/02/2018    HOLIDAY:holidayname\n",
    "```\n",
    "\n",
    "Etc. Example files can be found in the ```old_fikalist/``` directory."
   ]
  },
  {
   "cell_type": "code",
   "execution_count": 46,
   "metadata": {
    "ExecuteTime": {
     "end_time": "2018-10-16T08:00:38.967133Z",
     "start_time": "2018-10-16T08:00:38.959390Z"
    }
   },
   "outputs": [
    {
     "name": "stdout",
     "output_type": "stream",
     "text": [
      "Victor\n",
      "Björn\n",
      "Francesca\n",
      "Bengt\n",
      "Rupal\n",
      "Christer\n",
      "Dennis\n",
      "Felix\n",
      "Edvin\n",
      "Filip\n",
      "Josefin\n",
      "Christian\n",
      "Mark\n",
      "Jonas\n",
      "Thedi\n",
      "Linda\n",
      "Zeynep\n",
      "Moszi\n",
      "Christoffer\n",
      "Exjobbare\n",
      "Rakhee\n",
      "Nirmal\n"
     ]
    }
   ],
   "source": [
    "# input data\n",
    "filename = 'old_fikalists/summer18_edits.fika'\n",
    "fikalist = FikaList()\n",
    "fikalist.input_list(filename)\n",
    "\n",
    "# show all the potential fika providers\n",
    "fikalist.providers.show()"
   ]
  },
  {
   "cell_type": "markdown",
   "metadata": {},
   "source": [
    "## Editing the providers\n",
    "\n",
    "The people in the group are constantly changing so we will need to update who is actually around to take part in fika. This can be done by adding and removing providers."
   ]
  },
  {
   "cell_type": "code",
   "execution_count": 47,
   "metadata": {
    "ExecuteTime": {
     "end_time": "2018-10-16T08:00:39.541819Z",
     "start_time": "2018-10-16T08:00:39.535972Z"
    }
   },
   "outputs": [
    {
     "name": "stdout",
     "output_type": "stream",
     "text": [
      "Farewell, Victor!\n",
      "Farewell, Edvin!\n",
      "Farewell, Christoffer!\n",
      "Welcome, David!\n",
      "Welcome, Navpreet!\n",
      "Alex is not in the list of providers...\n"
     ]
    }
   ],
   "source": [
    "# update by adding and removing people, use lists if you like.\n",
    "fikalist.providers.remove(['Victor', 'Edvin', 'Christoffer'])\n",
    "fikalist.providers.add('David')\n",
    "fikalist.providers.add('Navpreet')\n",
    "\n",
    "# FikaList even handles your errors\n",
    "fikalist.providers.remove('Alex')"
   ]
  },
  {
   "cell_type": "markdown",
   "metadata": {},
   "source": [
    "## Constraints\n",
    "\n",
    "Sadly fika is not always simple and we have to take into account constraints when making the list. This includes Swedish holidays which fall on a Friday (or Thursday...) and also people who are leaving soon and won't be able to provide fika after a certain date. It can also be convenient for couples who live together to have the same fika date. No fear! This can be handled with ```FikaList.constraints```.\n",
    "\n",
    "Major holidays (summer, winter and Easter) are already programmed into the ```FikaList``` class as well as Swedish *red days*."
   ]
  },
  {
   "cell_type": "code",
   "execution_count": 48,
   "metadata": {
    "ExecuteTime": {
     "end_time": "2018-10-16T08:00:40.371098Z",
     "start_time": "2018-10-16T08:00:40.367638Z"
    }
   },
   "outputs": [],
   "source": [
    "# Victor is leaving soon, so he should do fika sooner!\n",
    "#fikalist.constraints.add('Victor', 'leaving soon')\n",
    "\n",
    "# Rakhee and Nirmal live together, so they should have the same fika date\n",
    "fikalist.constraints.add(['Rakhee', 'Nirmal'], 'together')"
   ]
  },
  {
   "cell_type": "markdown",
   "metadata": {},
   "source": [
    "## Generating the list\n",
    "\n",
    "Now that everything is up to date and the constraints are defined, we can go ahead and make a fikalist.\n",
    "\n",
    "The order is determined by random sampling without replacement, with people who made fika a long time ago weighted preferentially. Also, people are put together with someone who they have not been with before."
   ]
  },
  {
   "cell_type": "code",
   "execution_count": 49,
   "metadata": {
    "ExecuteTime": {
     "end_time": "2018-10-16T08:00:41.725540Z",
     "start_time": "2018-10-16T08:00:41.608369Z"
    }
   },
   "outputs": [
    {
     "data": {
      "text/html": [
       "<div>\n",
       "<style>\n",
       "    .dataframe thead tr:only-child th {\n",
       "        text-align: right;\n",
       "    }\n",
       "\n",
       "    .dataframe thead th {\n",
       "        text-align: left;\n",
       "    }\n",
       "\n",
       "    .dataframe tbody tr th {\n",
       "        vertical-align: top;\n",
       "    }\n",
       "</style>\n",
       "<table border=\"1\" class=\"dataframe\">\n",
       "  <thead>\n",
       "    <tr style=\"text-align: right;\">\n",
       "      <th></th>\n",
       "      <th>Week</th>\n",
       "      <th>Friday</th>\n",
       "      <th>Person 1</th>\n",
       "      <th>Person 2</th>\n",
       "    </tr>\n",
       "  </thead>\n",
       "  <tbody>\n",
       "    <tr>\n",
       "      <th>0</th>\n",
       "      <td>42</td>\n",
       "      <td>19/10/2018</td>\n",
       "      <td>Filip</td>\n",
       "      <td>Navpreet</td>\n",
       "    </tr>\n",
       "    <tr>\n",
       "      <th>1</th>\n",
       "      <td>43</td>\n",
       "      <td>26/10/2018</td>\n",
       "      <td>Rupal</td>\n",
       "      <td>Mark</td>\n",
       "    </tr>\n",
       "    <tr>\n",
       "      <th>2</th>\n",
       "      <td>44</td>\n",
       "      <td>02/11/2018</td>\n",
       "      <td>Francesca</td>\n",
       "      <td>David</td>\n",
       "    </tr>\n",
       "    <tr>\n",
       "      <th>3</th>\n",
       "      <td>45</td>\n",
       "      <td>09/11/2018</td>\n",
       "      <td>Bengt</td>\n",
       "      <td>Felix</td>\n",
       "    </tr>\n",
       "    <tr>\n",
       "      <th>4</th>\n",
       "      <td>46</td>\n",
       "      <td>16/11/2018</td>\n",
       "      <td>Jonas</td>\n",
       "      <td>Christer</td>\n",
       "    </tr>\n",
       "    <tr>\n",
       "      <th>5</th>\n",
       "      <td>47</td>\n",
       "      <td>23/11/2018</td>\n",
       "      <td>Björn</td>\n",
       "      <td>Christian</td>\n",
       "    </tr>\n",
       "    <tr>\n",
       "      <th>6</th>\n",
       "      <td>48</td>\n",
       "      <td>30/11/2018</td>\n",
       "      <td>Moszi</td>\n",
       "      <td>Josefin</td>\n",
       "    </tr>\n",
       "    <tr>\n",
       "      <th>7</th>\n",
       "      <td>49</td>\n",
       "      <td>07/12/2018</td>\n",
       "      <td>Thedi</td>\n",
       "      <td>Dennis</td>\n",
       "    </tr>\n",
       "    <tr>\n",
       "      <th>8</th>\n",
       "      <td>50</td>\n",
       "      <td>14/12/2018</td>\n",
       "      <td>Nirmal</td>\n",
       "      <td>Rakhee</td>\n",
       "    </tr>\n",
       "    <tr>\n",
       "      <th>9</th>\n",
       "      <td>2</td>\n",
       "      <td>11/01/2019</td>\n",
       "      <td>Zeynep</td>\n",
       "      <td>Linda</td>\n",
       "    </tr>\n",
       "    <tr>\n",
       "      <th>10</th>\n",
       "      <td>3</td>\n",
       "      <td>18/01/2019</td>\n",
       "      <td>Exjobbare</td>\n",
       "      <td>nan</td>\n",
       "    </tr>\n",
       "  </tbody>\n",
       "</table>\n",
       "</div>"
      ],
      "text/plain": [
       "   Week      Friday   Person 1   Person 2\n",
       "0    42  19/10/2018      Filip   Navpreet\n",
       "1    43  26/10/2018      Rupal       Mark\n",
       "2    44  02/11/2018  Francesca      David\n",
       "3    45  09/11/2018      Bengt      Felix\n",
       "4    46  16/11/2018      Jonas   Christer\n",
       "5    47  23/11/2018      Björn  Christian\n",
       "6    48  30/11/2018      Moszi    Josefin\n",
       "7    49  07/12/2018      Thedi     Dennis\n",
       "8    50  14/12/2018     Nirmal     Rakhee\n",
       "9     2  11/01/2019     Zeynep      Linda\n",
       "10    3  18/01/2019  Exjobbare        nan"
      ]
     },
     "metadata": {},
     "output_type": "display_data"
    }
   ],
   "source": [
    "# NB: only run this block once without reinitialising\n",
    "fikalist.generate()\n",
    "\n",
    "# show the generated list\n",
    "fikalist.show()\n",
    "# fikalist.print()"
   ]
  },
  {
   "cell_type": "markdown",
   "metadata": {
    "ExecuteTime": {
     "end_time": "2018-04-24T17:16:16.216059Z",
     "start_time": "2018-04-24T17:16:16.201370Z"
    }
   },
   "source": [
    "## Save the list\n",
    "Now that you have a new list, you can save it for use as input next time. "
   ]
  },
  {
   "cell_type": "code",
   "execution_count": 50,
   "metadata": {
    "ExecuteTime": {
     "end_time": "2018-10-16T08:03:58.636624Z",
     "start_time": "2018-10-16T08:03:58.629559Z"
    }
   },
   "outputs": [],
   "source": [
    "output_filename = 'old_fikalists/autumn18.fika'\n",
    "fikalist.save(output_filename)"
   ]
  }
 ],
 "metadata": {
  "kernelspec": {
   "display_name": "Python 3",
   "language": "python",
   "name": "python3"
  },
  "language_info": {
   "codemirror_mode": {
    "name": "ipython",
    "version": 3
   },
   "file_extension": ".py",
   "mimetype": "text/x-python",
   "name": "python",
   "nbconvert_exporter": "python",
   "pygments_lexer": "ipython3",
   "version": "3.6.4"
  }
 },
 "nbformat": 4,
 "nbformat_minor": 2
}
